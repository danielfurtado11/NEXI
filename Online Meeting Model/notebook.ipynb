{
 "cells": [
  {
   "cell_type": "markdown",
   "metadata": {},
   "source": [
    "## Imports"
   ]
  },
  {
   "cell_type": "code",
   "execution_count": 7,
   "metadata": {},
   "outputs": [],
   "source": [
    "import pandas as pd"
   ]
  },
  {
   "cell_type": "markdown",
   "metadata": {},
   "source": [
    "## Read CSV"
   ]
  },
  {
   "cell_type": "code",
   "execution_count": 8,
   "metadata": {},
   "outputs": [
    {
     "name": "stdout",
     "output_type": "stream",
     "text": [
      "Shape: (26447, 23)\n"
     ]
    }
   ],
   "source": [
    "# Read csv\n",
    "data = pd.read_csv('data_processed.csv')\n",
    "print(\"Shape: \" + str(data.shape))"
   ]
  },
  {
   "cell_type": "markdown",
   "metadata": {},
   "source": [
    "## Gaze and Head Positions Adjusts"
   ]
  },
  {
   "cell_type": "code",
   "execution_count": 9,
   "metadata": {},
   "outputs": [],
   "source": [
    "timeBlock = 10 # minutes\n",
    "time_adjust = '10s'"
   ]
  },
  {
   "cell_type": "code",
   "execution_count": 10,
   "metadata": {},
   "outputs": [],
   "source": [
    "data['datetime'] = pd.to_datetime(data['datetime'])\n",
    "data['time_block'] = (data['datetime'] - data['datetime'].min()).dt.total_seconds() // (60 * timeBlock)\n",
    "persons = data['person'].unique()\n",
    "\n",
    "# Adjust angles for each person in blocks of 10 minutes\n",
    "for person in persons:\n",
    "    mask_person = data['person'] == person\n",
    "    \n",
    "    for block in data.loc[mask_person, 'time_block'].unique():\n",
    "        mask_block = (data['time_block'] == block) & mask_person # Intersection between person and block\n",
    "        data_person_block = data[mask_block]\n",
    "        \n",
    "        data.loc[mask_block, 'gaze_pitch_mean'] = data_person_block['gaze_pitch'].mean()\n",
    "        data.loc[mask_block, 'gaze_yaw_mean'] = data_person_block['gaze_yaw'].mean()\n",
    "        data.loc[mask_block, 'head_pitch_mean'] = data_person_block['head_pitch'].mean()\n",
    "        data.loc[mask_block, 'head_yaw_mean'] = data_person_block['head_yaw'].mean()\n",
    "        data.loc[mask_block, 'head_roll_mean'] = data_person_block['head_roll'].mean()"
   ]
  },
  {
   "cell_type": "code",
   "execution_count": 11,
   "metadata": {},
   "outputs": [],
   "source": [
    "data.set_index('datetime', inplace=True)\n",
    "result = []\n",
    "\n",
    "# Adjust gaze and head angles for each person in blocks of 10 minutes each 10 seconds\n",
    "for (person, time_block), group in data.groupby(['person', 'time_block']):\n",
    "\n",
    "    group['gaze_pitch_adjusted'] = group['gaze_pitch'].resample(time_adjust).transform('mean') - group['gaze_pitch_mean'].iloc[0]\n",
    "    group['gaze_yaw_adjusted'] = group['gaze_yaw'].resample(time_adjust).transform('mean') - group['gaze_yaw_mean'].iloc[0]\n",
    "    group['head_pitch_adjusted'] = group['head_pitch'].resample(time_adjust).transform('mean') - group['head_pitch_mean'].iloc[0]\n",
    "    group['head_yaw_adjusted'] = group['head_yaw'].resample(time_adjust).transform('mean') - group['head_yaw_mean'].iloc[0]\n",
    "    group['head_roll_adjusted'] = group['head_roll'].resample(time_adjust).transform('mean') - group['head_roll_mean'].iloc[0]\n",
    "    \n",
    "    result.append(group)\n",
    "\n",
    "data = pd.concat(result).sort_index()\n",
    "data.reset_index(inplace=True)"
   ]
  },
  {
   "cell_type": "markdown",
   "metadata": {},
   "source": [
    "## Variation in facial movement for each person"
   ]
  },
  {
   "cell_type": "code",
   "execution_count": 12,
   "metadata": {},
   "outputs": [],
   "source": [
    "person1 = data['person'].unique()\n",
    "\n",
    "for i in person1:\n",
    "    data_person_i = data[data['person'] == i]\n",
    "\n",
    "    face_width = data_person_i['face_bbox_x2'] - data_person_i['face_bbox_x1']\n",
    "    average_pixel_per_cm = (face_width/12).mean() # 12 centimeters is the value by default for a face's width\n",
    "\n",
    "    data.loc[data_person_i.index, 'head_movement_x_abs'] = (data_person_i['face_center_x'].diff().bfill() / average_pixel_per_cm).abs()\n",
    "    data.loc[data_person_i.index, 'head_movement_y_abs'] = (data_person_i['face_center_y'].diff().bfill() / average_pixel_per_cm).abs()\n",
    "    data.loc[data_person_i.index, 'head_movement_z_abs'] = (face_width.diff().bfill() / average_pixel_per_cm).abs()"
   ]
  },
  {
   "cell_type": "markdown",
   "metadata": {},
   "source": [
    "### Group in intervals"
   ]
  },
  {
   "cell_type": "code",
   "execution_count": 13,
   "metadata": {},
   "outputs": [],
   "source": [
    "person1 = data['person'].unique()\n",
    "\n",
    "for i in person1:\n",
    "    data_person_i = data[data['person'] == i]\n",
    "    columns_to_group = ['head_movement_x_abs', 'head_movement_y_abs', 'head_movement_z_abs']\n",
    "\n",
    "    for column in columns_to_group:\n",
    "        data_person_grouped = data_person_i.groupby(pd.Grouper(key='datetime', freq=time_adjust))[column].mean().reset_index()\n",
    "        data_person_grouped.columns = ['datetime', f'{column}_{time_adjust}']\n",
    "\n",
    "        for j in data_person_grouped.values:\n",
    "            start_time = j[0]\n",
    "            time_delta = pd.to_timedelta(time_adjust)\n",
    "            end_time = start_time + time_delta\n",
    "            mask = (data['datetime'] >= start_time) & (data['datetime'] < end_time) & (data['person'] == i)\n",
    "            data.loc[mask, f'{column}_{time_adjust}'] = j[1]"
   ]
  },
  {
   "cell_type": "markdown",
   "metadata": {},
   "source": [
    "## Difference between Gaze and Head Position"
   ]
  },
  {
   "cell_type": "code",
   "execution_count": 14,
   "metadata": {},
   "outputs": [],
   "source": [
    "data['head_gaze_diff_yaw_abs'] = (data['head_yaw_adjusted'] - data['gaze_yaw_adjusted']).abs()\n",
    "data['head_gaze_diff_pitch_abs'] = (data['head_pitch_adjusted'] - data['gaze_pitch_adjusted']).abs()"
   ]
  },
  {
   "cell_type": "markdown",
   "metadata": {},
   "source": [
    "## Blink Rate"
   ]
  },
  {
   "cell_type": "code",
   "execution_count": null,
   "metadata": {},
   "outputs": [],
   "source": [
    "person1 = data['person'].unique()\n",
    "data['blink'] = 0\n",
    "\n",
    "for i in person1:\n",
    "    data_person_i = data[data['person'] == i]\n",
    "    prev_left_eye = \"open\"\n",
    "    prev_right_eye = \"open\"\n",
    "\n",
    "    for idx, row in data_person_i.iterrows():\n",
    "        left_eye = row['left_eye_state']\n",
    "        right_eye = row['right_eye_state']\n",
    "\n",
    "        if prev_left_eye == \"open\" and prev_right_eye == \"open\" and (left_eye != \"open\" or right_eye != \"open\"):\n",
    "            data.at[idx, 'blink'] = 1\n",
    "\n",
    "        prev_left_eye = left_eye\n",
    "        prev_right_eye = right_eye\n",
    "\n",
    "\n",
    "        # Fazer groupby(PERSON) intervalos de 1 segundo e dentro desse nº de leituras se tiver 1 leitura em que o olho esq e olho dir fechado consideramos um blink\n",
    "        # só é considerado olho fechado se confidence > 0.6 (if)          "
   ]
  },
  {
   "cell_type": "code",
   "execution_count": 20,
   "metadata": {},
   "outputs": [],
   "source": [
    "data['blink_rate'] = 0\n",
    "\n",
    "for i in person1:\n",
    "    data_person_i = data[data['person'] == i].copy()\n",
    "    data_person_i = data_person_i.set_index('datetime')\n",
    "    data_person_i['blink_rate'] = data_person_i['blink'].rolling('60s').sum().fillna(0)\n",
    "    data.loc[data['person'] == i, 'blink_rate'] = data_person_i['blink_rate'].values"
   ]
  },
  {
   "cell_type": "code",
   "execution_count": 23,
   "metadata": {},
   "outputs": [
    {
     "name": "stdout",
     "output_type": "stream",
     "text": [
      "blink_rate\n",
      "22    386\n",
      "24    319\n",
      "10    318\n",
      "25    312\n",
      "23    276\n",
      "21    272\n",
      "26    249\n",
      "20    239\n",
      "18    236\n",
      "15    203\n",
      "9     199\n",
      "11    168\n",
      "12    161\n",
      "28    152\n",
      "16    152\n",
      "19    145\n",
      "35    140\n",
      "42    136\n",
      "2     130\n",
      "17    126\n",
      "13    124\n",
      "14    123\n",
      "34    121\n",
      "27    113\n",
      "8     112\n",
      "39    111\n",
      "40    105\n",
      "45    103\n",
      "38    101\n",
      "41    100\n",
      "43     96\n",
      "29     92\n",
      "31     89\n",
      "1      85\n",
      "32     84\n",
      "44     80\n",
      "6      76\n",
      "33     75\n",
      "37     74\n",
      "5      72\n",
      "46     67\n",
      "30     66\n",
      "36     63\n",
      "4      47\n",
      "7      32\n",
      "47     22\n",
      "0      21\n",
      "3      12\n",
      "Name: count, dtype: int64\n",
      "................................\n",
      "blink_rate\n",
      "28    299\n",
      "27    292\n",
      "37    286\n",
      "38    278\n",
      "36    267\n",
      "34    264\n",
      "30    259\n",
      "26    248\n",
      "31    247\n",
      "35    241\n",
      "29    211\n",
      "32    207\n",
      "39    203\n",
      "33    192\n",
      "45    181\n",
      "44    178\n",
      "49    167\n",
      "23    165\n",
      "43    159\n",
      "48    153\n",
      "41    151\n",
      "42    146\n",
      "4     144\n",
      "25    144\n",
      "47    140\n",
      "24    135\n",
      "50    131\n",
      "51    123\n",
      "40    111\n",
      "22    107\n",
      "46    106\n",
      "15    103\n",
      "21     93\n",
      "52     69\n",
      "16     63\n",
      "11     54\n",
      "13     50\n",
      "14     46\n",
      "20     42\n",
      "18     38\n",
      "12     33\n",
      "19     23\n",
      "54     20\n",
      "17     18\n",
      "2      14\n",
      "53     13\n",
      "1      10\n",
      "8       9\n",
      "10      8\n",
      "6       8\n",
      "7       7\n",
      "9       6\n",
      "5       5\n",
      "3       3\n",
      "55      3\n",
      "Name: count, dtype: int64\n",
      "................................\n",
      "blink_rate\n",
      "12    638\n",
      "6     590\n",
      "7     523\n",
      "11    501\n",
      "8     489\n",
      "5     476\n",
      "4     376\n",
      "14    342\n",
      "13    325\n",
      "1     286\n",
      "10    270\n",
      "15    206\n",
      "21    193\n",
      "16    177\n",
      "9     164\n",
      "0     163\n",
      "20    139\n",
      "3     127\n",
      "19    106\n",
      "18    101\n",
      "2      94\n",
      "22     92\n",
      "17     91\n",
      "23     39\n",
      "Name: count, dtype: int64\n",
      "................................\n",
      "blink_rate\n",
      "43    374\n",
      "40    327\n",
      "44    279\n",
      "42    259\n",
      "39    256\n",
      "     ... \n",
      "0      17\n",
      "58     14\n",
      "68     14\n",
      "4       7\n",
      "5       3\n",
      "Name: count, Length: 69, dtype: int64\n",
      "................................\n"
     ]
    }
   ],
   "source": [
    "for i in person1:\n",
    "    data_person_i = data[data['person'] == i]\n",
    "    print(data_person_i['blink_rate'].value_counts())\n",
    "    print(\"................................\")\n"
   ]
  },
  {
   "cell_type": "markdown",
   "metadata": {},
   "source": [
    "## Engagement"
   ]
  },
  {
   "cell_type": "markdown",
   "metadata": {},
   "source": [
    "### Normalize Data"
   ]
  },
  {
   "cell_type": "code",
   "execution_count": null,
   "metadata": {},
   "outputs": [],
   "source": [
    "dataNormalized = pd.DataFrame()\n",
    "# Difference between the head and gaze angles\n",
    "dataNormalized['head_gaze_diff_yaw_abs'] = data['head_gaze_diff_yaw_abs']/data['head_gaze_diff_yaw_abs'].max()\n",
    "dataNormalized['head_gaze_diff_pitch_abs'] = data['head_gaze_diff_pitch_abs']/data['head_gaze_diff_pitch_abs'].max()\n",
    "\n",
    "# Normalize the values of head angles\n",
    "dataNormalized['head_pitch_abs'] = data['head_pitch_adjusted'].abs()/data['head_pitch_adjusted'].abs().max()\n",
    "dataNormalized['head_yaw_abs'] = data['head_yaw_adjusted'].abs()/data['head_yaw_adjusted'].abs().max()\n",
    "dataNormalized['head_roll_abs'] = data['head_roll_adjusted'].abs()/data['head_roll_adjusted'].abs().max()\n",
    "\n",
    "# Normalize the values of gaze angles\n",
    "dataNormalized['gaze_pitch_abs'] = data['gaze_pitch_adjusted'].abs()/data['gaze_pitch_adjusted'].abs().max()\n",
    "dataNormalized['gaze_yaw_abs'] = data['gaze_yaw_adjusted'].abs()/data['gaze_yaw_adjusted'].abs().max()\n",
    "\n",
    "# Normalize the movement of the head\n",
    "dataNormalized['head_movement_x'] = data['head_movement_x_abs']/data['head_movement_x_abs'].max()\n",
    "dataNormalized['head_movement_x_abs_10s'] = data['head_movement_x_abs_10s']/data['head_movement_x_abs_10s'].max()\n",
    "dataNormalized['head_movement_y'] = data['head_movement_y_abs']/data['head_movement_y_abs'].max()\n",
    "dataNormalized['head_movement_y_abs_10s'] = data['head_movement_y_abs_10s']/data['head_movement_y_abs_10s'].max()\n",
    "dataNormalized['head_movement_z'] = data['head_movement_z_abs']/data['head_movement_z_abs'].max()\n",
    "dataNormalized['head_movement_z_abs_10s'] = data['head_movement_z_abs_10s']/data['head_movement_z_abs_10s'].max()\n",
    "\n",
    "dataNormalized['blink_rate'] = data['blink_rate']/data['blink_rate'].max()"
   ]
  },
  {
   "cell_type": "markdown",
   "metadata": {},
   "source": [
    "### Engagement Formula"
   ]
  },
  {
   "cell_type": "code",
   "execution_count": null,
   "metadata": {},
   "outputs": [],
   "source": [
    "gaze_yaw = dataNormalized['gaze_yaw_abs']\n",
    "gaze_pitch = dataNormalized['gaze_pitch_abs']\n",
    "gaze = (1 - (0.5 * gaze_pitch + 0.5 * gaze_yaw))\n",
    "\n",
    "head_yaw = dataNormalized['head_yaw_abs']\n",
    "head_pitch = dataNormalized['head_pitch_abs']\n",
    "head_roll = dataNormalized['head_roll_abs']\n",
    "head = (1 - (0.333 * head_pitch + 0.333 * head_yaw + 0.333 * head_roll))\n",
    "\n",
    "\n",
    "head_gaze_diff_yaw = dataNormalized['head_gaze_diff_yaw_abs']\n",
    "head_gaze_diff_pitch = dataNormalized['head_gaze_diff_pitch_abs']\n",
    "head_gaze_diff = (1 - (0.5 * head_gaze_diff_pitch + 0.5 * head_gaze_diff_yaw))\n",
    "\n",
    "head_movement_x_10s = dataNormalized['head_movement_x_abs_10s']\n",
    "head_movement_y_10s = dataNormalized['head_movement_y_abs_10s']\n",
    "head_movement_z_10s = dataNormalized['head_movement_z_abs_10s']\n",
    "head_movement_10s = (1 - (0.333 * head_movement_x_10s + 0.333 * head_movement_y_10s + 0.333 * head_movement_z_10s))\n",
    "\n",
    "blink_rate = (1 - dataNormalized['blink_rate'])\n",
    "\n",
    "\n",
    "\n",
    "# Formula to calculate engagement\n",
    "data['engagement'] = 0.20 * head + 0.20 * gaze + 0.20 * head_gaze_diff + 0.20 * head_movement_10s + 0.20 * blink_rate"
   ]
  },
  {
   "cell_type": "markdown",
   "metadata": {},
   "source": [
    "## Create Final Dataset"
   ]
  },
  {
   "cell_type": "code",
   "execution_count": null,
   "metadata": {},
   "outputs": [],
   "source": [
    "data_final = data[['datetime', 'person', 'engagement','facial_expression']]\n",
    "data_final.to_csv('data_final.csv', index=False)"
   ]
  }
 ],
 "metadata": {
  "kernelspec": {
   "display_name": "Python 3",
   "language": "python",
   "name": "python3"
  },
  "language_info": {
   "codemirror_mode": {
    "name": "ipython",
    "version": 3
   },
   "file_extension": ".py",
   "mimetype": "text/x-python",
   "name": "python",
   "nbconvert_exporter": "python",
   "pygments_lexer": "ipython3",
   "version": "3.12.9"
  }
 },
 "nbformat": 4,
 "nbformat_minor": 2
}
